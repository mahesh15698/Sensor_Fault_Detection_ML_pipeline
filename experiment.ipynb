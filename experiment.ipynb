{
 "cells": [
  {
   "cell_type": "code",
   "execution_count": 5,
   "metadata": {},
   "outputs": [],
   "source": [
    "import os"
   ]
  },
  {
   "cell_type": "code",
   "execution_count": 19,
   "metadata": {},
   "outputs": [
    {
     "name": "stdout",
     "output_type": "stream",
     "text": [
      "['pymongo==4.2.0', '-e .']\n"
     ]
    }
   ],
   "source": [
    "# Assuming your text file is named 'data.txt'\n",
    "file_path = 'requirements.txt'  # Specify the filename\n",
    "\n",
    "# Initialize an empty list to store the information\n",
    "info_list = []\n",
    "\n",
    "# Read the text file and extract information into the list\n",
    "with open(file_path, 'r') as file:\n",
    "    for line in file:\n",
    "        # Remove newline characters and any extra spaces\n",
    "        item = line.strip()\n",
    "        # Append the item to the list\n",
    "        info_list.append(item)\n",
    "\n",
    "# Print or use the fetched information\n",
    "print(info_list)"
   ]
  },
  {
   "cell_type": "code",
   "execution_count": 7,
   "metadata": {},
   "outputs": [
    {
     "name": "stdout",
     "output_type": "stream",
     "text": [
      "c:\\Users\\Admin\\Sensor_Fault_Detection_ML_pipeline\n"
     ]
    }
   ],
   "source": [
    "root= os.getcwd()\n",
    "print(root)"
   ]
  },
  {
   "cell_type": "code",
   "execution_count": 12,
   "metadata": {},
   "outputs": [
    {
     "ename": "SyntaxError",
     "evalue": "EOL while scanning string literal (2309059945.py, line 1)",
     "output_type": "error",
     "traceback": [
      "\u001b[1;36m  Cell \u001b[1;32mIn[12], line 1\u001b[1;36m\u001b[0m\n\u001b[1;33m    entries = os.listdir(r'C:\\Users\\Admin\\Sensor_Fault_Detection_ML_pipeline\\requirements.txt\\')\u001b[0m\n\u001b[1;37m                                                                                                ^\u001b[0m\n\u001b[1;31mSyntaxError\u001b[0m\u001b[1;31m:\u001b[0m EOL while scanning string literal\n"
     ]
    }
   ],
   "source": [
    "\n",
    "entries = os.listdir(r'C:\\Users\\Admin\\Sensor_Fault_Detection_ML_pipeline\\requirements.txt\\')\n",
    "entries"
   ]
  },
  {
   "cell_type": "code",
   "execution_count": null,
   "metadata": {},
   "outputs": [],
   "source": []
  }
 ],
 "metadata": {
  "kernelspec": {
   "display_name": "Python 3",
   "language": "python",
   "name": "python3"
  },
  "language_info": {
   "codemirror_mode": {
    "name": "ipython",
    "version": 3
   },
   "file_extension": ".py",
   "mimetype": "text/x-python",
   "name": "python",
   "nbconvert_exporter": "python",
   "pygments_lexer": "ipython3",
   "version": "3.8.0"
  }
 },
 "nbformat": 4,
 "nbformat_minor": 2
}
