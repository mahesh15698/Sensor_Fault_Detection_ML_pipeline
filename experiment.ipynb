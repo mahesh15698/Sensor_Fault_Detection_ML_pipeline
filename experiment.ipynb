{
 "cells": [
  {
   "cell_type": "code",
   "execution_count": 1,
   "metadata": {},
   "outputs": [
    {
     "ename": "ModuleNotFoundError",
     "evalue": "No module named 'constant'",
     "output_type": "error",
     "traceback": [
      "\u001b[1;31m---------------------------------------------------------------------------\u001b[0m",
      "\u001b[1;31mModuleNotFoundError\u001b[0m                       Traceback (most recent call last)",
      "\u001b[1;32mc:\\Users\\Admin\\Sensor_Fault_Detection_ML_pipeline\\experiment.ipynb Cell 1\u001b[0m line \u001b[0;36m1\n\u001b[1;32m----> <a href='vscode-notebook-cell:/c%3A/Users/Admin/Sensor_Fault_Detection_ML_pipeline/experiment.ipynb#W6sZmlsZQ%3D%3D?line=0'>1</a>\u001b[0m \u001b[39mfrom\u001b[39;00m \u001b[39msensor\u001b[39;00m\u001b[39m.\u001b[39;00m\u001b[39mconstant\u001b[39;00m \u001b[39mimport\u001b[39;00m training_pipeline\n",
      "File \u001b[1;32mc:\\Users\\Admin\\Sensor_Fault_Detection_ML_pipeline\\sensor\\constant\\training_pipeline\\__init__.py:2\u001b[0m\n\u001b[0;32m      1\u001b[0m \u001b[39mimport\u001b[39;00m \u001b[39mos\u001b[39;00m\n\u001b[1;32m----> 2\u001b[0m \u001b[39mfrom\u001b[39;00m \u001b[39mconstant\u001b[39;00m\u001b[39m.\u001b[39;00m\u001b[39ms3_bucket\u001b[39;00m \u001b[39mimport\u001b[39;00m TRAINING_BUCKET_NAME\n\u001b[0;32m      4\u001b[0m SAVED_MODEL_DIR \u001b[39m=\u001b[39mos\u001b[39m.\u001b[39mpath\u001b[39m.\u001b[39mjoin(\u001b[39m\"\u001b[39m\u001b[39msaved_models\u001b[39m\u001b[39m\"\u001b[39m)\n\u001b[0;32m      5\u001b[0m \u001b[39m# defining common constant variable for training pipeline\u001b[39;00m\n",
      "\u001b[1;31mModuleNotFoundError\u001b[0m: No module named 'constant'"
     ]
    }
   ],
   "source": [
    "from sensor.constant import training_pipeline"
   ]
  },
  {
   "cell_type": "code",
   "execution_count": 5,
   "metadata": {},
   "outputs": [],
   "source": [
    "import os"
   ]
  },
  {
   "cell_type": "code",
   "execution_count": 19,
   "metadata": {},
   "outputs": [
    {
     "name": "stdout",
     "output_type": "stream",
     "text": [
      "['pymongo==4.2.0', '-e .']\n"
     ]
    }
   ],
   "source": [
    "# Assuming your text file is named 'data.txt'\n",
    "file_path = 'requirements.txt'  # Specify the filename\n",
    "\n",
    "# Initialize an empty list to store the information\n",
    "info_list = []\n",
    "\n",
    "# Read the text file and extract information into the list\n",
    "with open(file_path, 'r') as file:\n",
    "    for line in file:\n",
    "        # Remove newline characters and any extra spaces\n",
    "        item = line.strip()\n",
    "        # Append the item to the list\n",
    "        info_list.append(item)\n",
    "\n",
    "# Print or use the fetched information\n",
    "print(info_list)"
   ]
  },
  {
   "cell_type": "code",
   "execution_count": 3,
   "metadata": {},
   "outputs": [
    {
     "name": "stdout",
     "output_type": "stream",
     "text": [
      "c:\\Users\\Admin\\Sensor_Fault_Detection_ML_pipeline\n"
     ]
    }
   ],
   "source": [
    "import os\n",
    "root= os.getcwd()\n",
    "print(root)"
   ]
  },
  {
   "cell_type": "code",
   "execution_count": 3,
   "metadata": {},
   "outputs": [],
   "source": [
    "from urllib.parse import quote_plus"
   ]
  },
  {
   "cell_type": "code",
   "execution_count": 2,
   "metadata": {},
   "outputs": [],
   "source": [
    "from sensor.utils.main_utils import read_yaml_file"
   ]
  },
  {
   "cell_type": "code",
   "execution_count": 5,
   "metadata": {},
   "outputs": [],
   "source": [
    "file_path=r\"C:\\Users\\Admin\\Sensor_Fault_Detection_ML_pipeline\\config\\schema.yaml\""
   ]
  },
  {
   "cell_type": "code",
   "execution_count": 6,
   "metadata": {},
   "outputs": [],
   "source": [
    "schema_config= read_yaml_file(file_path=file_path)"
   ]
  },
  {
   "cell_type": "code",
   "execution_count": 10,
   "metadata": {},
   "outputs": [
    {
     "data": {
      "text/plain": [
       "[{'class': 'category'},\n",
       " {'aa_000': 'int'},\n",
       " {'ac_000': 'int'},\n",
       " {'ad_000': 'int'},\n",
       " {'ae_000': 'int'},\n",
       " {'af_000': 'int'},\n",
       " {'ag_000': 'int'},\n",
       " {'ag_001': 'int'},\n",
       " {'ag_002': 'int'},\n",
       " {'ag_003': 'int'},\n",
       " {'ag_004': 'int'},\n",
       " {'ag_005': 'int'},\n",
       " {'ag_006': 'int'},\n",
       " {'ag_007': 'int'},\n",
       " {'ag_008': 'int'},\n",
       " {'ag_009': 'int'},\n",
       " {'ah_000': 'int'},\n",
       " {'ai_000': 'int'},\n",
       " {'aj_000': 'int'},\n",
       " {'ak_000': 'int'},\n",
       " {'al_000': 'int'},\n",
       " {'am_0': 'int'},\n",
       " {'an_000': 'int'},\n",
       " {'ao_000': 'int'},\n",
       " {'ap_000': 'int'},\n",
       " {'aq_000': 'int'},\n",
       " {'ar_000': 'int'},\n",
       " {'as_000': 'int'},\n",
       " {'at_000': 'int'},\n",
       " {'au_000': 'int'},\n",
       " {'av_000': 'int'},\n",
       " {'ax_000': 'int'},\n",
       " {'ay_000': 'int'},\n",
       " {'ay_001': 'int'},\n",
       " {'ay_002': 'int'},\n",
       " {'ay_003': 'int'},\n",
       " {'ay_004': 'int'},\n",
       " {'ay_005': 'int'},\n",
       " {'ay_006': 'int'},\n",
       " {'ay_007': 'int'},\n",
       " {'ay_008': 'int'},\n",
       " {'ay_009': 'int'},\n",
       " {'az_000': 'int'},\n",
       " {'az_001': 'int'},\n",
       " {'az_002': 'int'},\n",
       " {'az_003': 'int'},\n",
       " {'az_004': 'int'},\n",
       " {'az_005': 'int'},\n",
       " {'az_006': 'int'},\n",
       " {'az_007': 'int'},\n",
       " {'az_008': 'int'},\n",
       " {'az_009': 'int'},\n",
       " {'ba_000': 'int'},\n",
       " {'ba_001': 'int'},\n",
       " {'ba_002': 'int'},\n",
       " {'ba_003': 'int'},\n",
       " {'ba_004': 'int'},\n",
       " {'ba_005': 'int'},\n",
       " {'ba_006': 'int'},\n",
       " {'ba_007': 'int'},\n",
       " {'ba_008': 'int'},\n",
       " {'ba_009': 'int'},\n",
       " {'bb_000': 'int'},\n",
       " {'bc_000': 'int'},\n",
       " {'bd_000': 'int'},\n",
       " {'be_000': 'int'},\n",
       " {'bf_000': 'int'},\n",
       " {'bg_000': 'int'},\n",
       " {'bh_000': 'int'},\n",
       " {'bi_000': 'int'},\n",
       " {'bj_000': 'int'},\n",
       " {'bk_000': 'int'},\n",
       " {'bl_000': 'int'},\n",
       " {'bm_000': 'int'},\n",
       " {'bs_000': 'int'},\n",
       " {'bt_000': 'int'},\n",
       " {'bu_000': 'int'},\n",
       " {'bv_000': 'int'},\n",
       " {'bx_000': 'int'},\n",
       " {'by_000': 'int'},\n",
       " {'bz_000': 'int'},\n",
       " {'ca_000': 'int'},\n",
       " {'cb_000': 'int'},\n",
       " {'cc_000': 'int'},\n",
       " {'cd_000': 'int'},\n",
       " {'ce_000': 'int'},\n",
       " {'cf_000': 'int'},\n",
       " {'cg_000': 'int'},\n",
       " {'ch_000': 'int'},\n",
       " {'ci_000': 'int'},\n",
       " {'cj_000': 'int'},\n",
       " {'ck_000': 'int'},\n",
       " {'cl_000': 'int'},\n",
       " {'cm_000': 'int'},\n",
       " {'cn_000': 'int'},\n",
       " {'cn_001': 'int'},\n",
       " {'cn_002': 'int'},\n",
       " {'cn_003': 'int'},\n",
       " {'cn_004': 'int'},\n",
       " {'cn_005': 'int'},\n",
       " {'cn_006': 'int'},\n",
       " {'cn_007': 'int'},\n",
       " {'cn_008': 'int'},\n",
       " {'cn_009': 'int'},\n",
       " {'co_000': 'int'},\n",
       " {'cp_000': 'int'},\n",
       " {'cq_000': 'int'},\n",
       " {'cs_000': 'int'},\n",
       " {'cs_001': 'int'},\n",
       " {'cs_002': 'int'},\n",
       " {'cs_003': 'int'},\n",
       " {'cs_004': 'int'},\n",
       " {'cs_005': 'int'},\n",
       " {'cs_006': 'int'},\n",
       " {'cs_007': 'int'},\n",
       " {'cs_008': 'int'},\n",
       " {'cs_009': 'int'},\n",
       " {'ct_000': 'int'},\n",
       " {'cu_000': 'int'},\n",
       " {'cv_000': 'int'},\n",
       " {'cx_000': 'int'},\n",
       " {'cy_000': 'int'},\n",
       " {'cz_000': 'int'},\n",
       " {'da_000': 'int'},\n",
       " {'db_000': 'int'},\n",
       " {'dc_000': 'int'},\n",
       " {'dd_000': 'int'},\n",
       " {'de_000': 'int'},\n",
       " {'df_000': 'int'},\n",
       " {'dg_000': 'int'},\n",
       " {'dh_000': 'int'},\n",
       " {'di_000': 'int'},\n",
       " {'dj_000': 'int'},\n",
       " {'dk_000': 'int'},\n",
       " {'dl_000': 'int'},\n",
       " {'dm_000': 'int'},\n",
       " {'dn_000': 'int'},\n",
       " {'do_000': 'int'},\n",
       " {'dp_000': 'int'},\n",
       " {'dq_000': 'int'},\n",
       " {'dr_000': 'int'},\n",
       " {'ds_000': 'int'},\n",
       " {'dt_000': 'int'},\n",
       " {'du_000': 'int'},\n",
       " {'dv_000': 'int'},\n",
       " {'dx_000': 'int'},\n",
       " {'dy_000': 'int'},\n",
       " {'dz_000': 'int'},\n",
       " {'ea_000': 'int'},\n",
       " {'eb_000': 'int'},\n",
       " {'ec_00': 'int'},\n",
       " {'ed_000': 'int'},\n",
       " {'ee_000': 'int'},\n",
       " {'ee_001': 'int'},\n",
       " {'ee_002': 'int'},\n",
       " {'ee_003': 'int'},\n",
       " {'ee_004': 'int'},\n",
       " {'ee_005': 'int'},\n",
       " {'ee_006': 'int'},\n",
       " {'ee_007': 'int'},\n",
       " {'ee_008': 'int'},\n",
       " {'ee_009': 'int'},\n",
       " {'ef_000': 'int'},\n",
       " {'eg_000': 'int'}]"
      ]
     },
     "execution_count": 10,
     "metadata": {},
     "output_type": "execute_result"
    }
   ],
   "source": [
    "schema_config[\"columns\"]"
   ]
  },
  {
   "cell_type": "code",
   "execution_count": 11,
   "metadata": {},
   "outputs": [],
   "source": [
    "import pandas as pd "
   ]
  },
  {
   "cell_type": "code",
   "execution_count": 12,
   "metadata": {},
   "outputs": [],
   "source": [
    "df =pd.read_csv(r\"C:\\Users\\Admin\\Sensor_Fault_Detection_ML_pipeline\\artifact\\11_23_2023_10_21_53\\data_ingestion\\ingested\\train.csv\")"
   ]
  },
  {
   "cell_type": "code",
   "execution_count": 44,
   "metadata": {},
   "outputs": [
    {
     "data": {
      "text/plain": [
       "['class',\n",
       " 'aa_000',\n",
       " 'ab_000',\n",
       " 'ac_000',\n",
       " 'ad_000',\n",
       " 'ae_000',\n",
       " 'af_000',\n",
       " 'ag_000',\n",
       " 'ag_001',\n",
       " 'ag_002',\n",
       " 'ag_003',\n",
       " 'ag_004',\n",
       " 'ag_005',\n",
       " 'ag_006',\n",
       " 'ag_007',\n",
       " 'ag_008',\n",
       " 'ag_009',\n",
       " 'ah_000',\n",
       " 'ai_000',\n",
       " 'aj_000',\n",
       " 'ak_000',\n",
       " 'al_000',\n",
       " 'am_0',\n",
       " 'an_000',\n",
       " 'ao_000',\n",
       " 'ap_000',\n",
       " 'aq_000',\n",
       " 'ar_000',\n",
       " 'as_000',\n",
       " 'at_000',\n",
       " 'au_000',\n",
       " 'av_000',\n",
       " 'ax_000',\n",
       " 'ay_000',\n",
       " 'ay_001',\n",
       " 'ay_002',\n",
       " 'ay_003',\n",
       " 'ay_004',\n",
       " 'ay_005',\n",
       " 'ay_006',\n",
       " 'ay_007',\n",
       " 'ay_008',\n",
       " 'ay_009',\n",
       " 'az_000',\n",
       " 'az_001',\n",
       " 'az_002',\n",
       " 'az_003',\n",
       " 'az_004',\n",
       " 'az_005',\n",
       " 'az_006',\n",
       " 'az_007',\n",
       " 'az_008',\n",
       " 'az_009',\n",
       " 'ba_000',\n",
       " 'ba_001',\n",
       " 'ba_002',\n",
       " 'ba_003',\n",
       " 'ba_004',\n",
       " 'ba_005',\n",
       " 'ba_006',\n",
       " 'ba_007',\n",
       " 'ba_008',\n",
       " 'ba_009',\n",
       " 'bb_000',\n",
       " 'bc_000',\n",
       " 'bd_000',\n",
       " 'be_000',\n",
       " 'bf_000',\n",
       " 'bg_000',\n",
       " 'bh_000',\n",
       " 'bi_000',\n",
       " 'bj_000',\n",
       " 'bk_000',\n",
       " 'bl_000',\n",
       " 'bm_000',\n",
       " 'bn_000',\n",
       " 'bo_000',\n",
       " 'bp_000',\n",
       " 'bq_000',\n",
       " 'br_000',\n",
       " 'bs_000',\n",
       " 'bt_000',\n",
       " 'bu_000',\n",
       " 'bv_000',\n",
       " 'bx_000',\n",
       " 'by_000',\n",
       " 'bz_000',\n",
       " 'ca_000',\n",
       " 'cb_000',\n",
       " 'cc_000',\n",
       " 'cd_000',\n",
       " 'ce_000',\n",
       " 'cf_000',\n",
       " 'cg_000',\n",
       " 'ch_000',\n",
       " 'ci_000',\n",
       " 'cj_000',\n",
       " 'ck_000',\n",
       " 'cl_000',\n",
       " 'cm_000',\n",
       " 'cn_000',\n",
       " 'cn_001',\n",
       " 'cn_002',\n",
       " 'cn_003',\n",
       " 'cn_004',\n",
       " 'cn_005',\n",
       " 'cn_006',\n",
       " 'cn_007',\n",
       " 'cn_008',\n",
       " 'cn_009',\n",
       " 'co_000',\n",
       " 'cp_000',\n",
       " 'cq_000',\n",
       " 'cr_000',\n",
       " 'cs_000',\n",
       " 'cs_001',\n",
       " 'cs_002',\n",
       " 'cs_003',\n",
       " 'cs_004',\n",
       " 'cs_005',\n",
       " 'cs_006',\n",
       " 'cs_007',\n",
       " 'cs_008',\n",
       " 'cs_009',\n",
       " 'ct_000',\n",
       " 'cu_000',\n",
       " 'cv_000',\n",
       " 'cx_000',\n",
       " 'cy_000',\n",
       " 'cz_000',\n",
       " 'da_000',\n",
       " 'db_000',\n",
       " 'dc_000',\n",
       " 'dd_000',\n",
       " 'de_000',\n",
       " 'df_000',\n",
       " 'dg_000',\n",
       " 'dh_000',\n",
       " 'di_000',\n",
       " 'dj_000',\n",
       " 'dk_000',\n",
       " 'dl_000',\n",
       " 'dm_000',\n",
       " 'dn_000',\n",
       " 'do_000',\n",
       " 'dp_000',\n",
       " 'dq_000',\n",
       " 'dr_000',\n",
       " 'ds_000',\n",
       " 'dt_000',\n",
       " 'du_000',\n",
       " 'dv_000',\n",
       " 'dx_000',\n",
       " 'dy_000',\n",
       " 'dz_000',\n",
       " 'ea_000',\n",
       " 'eb_000',\n",
       " 'ec_00',\n",
       " 'ed_000',\n",
       " 'ee_000',\n",
       " 'ee_001',\n",
       " 'ee_002',\n",
       " 'ee_003',\n",
       " 'ee_004',\n",
       " 'ee_005',\n",
       " 'ee_006',\n",
       " 'ee_007',\n",
       " 'ee_008',\n",
       " 'ee_009',\n",
       " 'ef_000',\n",
       " 'eg_000']"
      ]
     },
     "execution_count": 44,
     "metadata": {},
     "output_type": "execute_result"
    }
   ],
   "source": [
    "columns=list(df.columns)\n",
    "\n",
    "columns"
   ]
  },
  {
   "cell_type": "code",
   "execution_count": 45,
   "metadata": {},
   "outputs": [
    {
     "data": {
      "text/plain": [
       "['aa_000',\n",
       " 'ab_000',\n",
       " 'ac_000',\n",
       " 'ad_000',\n",
       " 'ae_000',\n",
       " 'af_000',\n",
       " 'ag_000',\n",
       " 'ag_001',\n",
       " 'ag_002',\n",
       " 'ag_003',\n",
       " 'ag_004',\n",
       " 'ag_005',\n",
       " 'ag_006',\n",
       " 'ag_007',\n",
       " 'ag_008',\n",
       " 'ag_009',\n",
       " 'ah_000',\n",
       " 'ai_000',\n",
       " 'aj_000',\n",
       " 'ak_000',\n",
       " 'al_000',\n",
       " 'am_0',\n",
       " 'an_000',\n",
       " 'ao_000',\n",
       " 'ap_000',\n",
       " 'aq_000',\n",
       " 'ar_000',\n",
       " 'as_000',\n",
       " 'at_000',\n",
       " 'au_000',\n",
       " 'av_000',\n",
       " 'ax_000',\n",
       " 'ay_000',\n",
       " 'ay_001',\n",
       " 'ay_002',\n",
       " 'ay_003',\n",
       " 'ay_004',\n",
       " 'ay_005',\n",
       " 'ay_006',\n",
       " 'ay_007',\n",
       " 'ay_008',\n",
       " 'ay_009',\n",
       " 'az_000',\n",
       " 'az_001',\n",
       " 'az_002',\n",
       " 'az_003',\n",
       " 'az_004',\n",
       " 'az_005',\n",
       " 'az_006',\n",
       " 'az_007',\n",
       " 'az_008',\n",
       " 'az_009',\n",
       " 'ba_000',\n",
       " 'ba_001',\n",
       " 'ba_002',\n",
       " 'ba_003',\n",
       " 'ba_004',\n",
       " 'ba_005',\n",
       " 'ba_006',\n",
       " 'ba_007',\n",
       " 'ba_008',\n",
       " 'ba_009',\n",
       " 'bb_000',\n",
       " 'bc_000',\n",
       " 'bd_000',\n",
       " 'be_000',\n",
       " 'bf_000',\n",
       " 'bg_000',\n",
       " 'bh_000',\n",
       " 'bi_000',\n",
       " 'bj_000',\n",
       " 'bk_000',\n",
       " 'bl_000',\n",
       " 'bm_000',\n",
       " 'bn_000',\n",
       " 'bo_000',\n",
       " 'bp_000',\n",
       " 'bq_000',\n",
       " 'br_000',\n",
       " 'bs_000',\n",
       " 'bt_000',\n",
       " 'bu_000',\n",
       " 'bv_000',\n",
       " 'bx_000',\n",
       " 'by_000',\n",
       " 'bz_000',\n",
       " 'ca_000',\n",
       " 'cb_000',\n",
       " 'cc_000',\n",
       " 'cd_000',\n",
       " 'ce_000',\n",
       " 'cf_000',\n",
       " 'cg_000',\n",
       " 'ch_000',\n",
       " 'ci_000',\n",
       " 'cj_000',\n",
       " 'ck_000',\n",
       " 'cl_000',\n",
       " 'cm_000',\n",
       " 'cn_000',\n",
       " 'cn_001',\n",
       " 'cn_002',\n",
       " 'cn_003',\n",
       " 'cn_004',\n",
       " 'cn_005',\n",
       " 'cn_006',\n",
       " 'cn_007',\n",
       " 'cn_008',\n",
       " 'cn_009',\n",
       " 'co_000',\n",
       " 'cp_000',\n",
       " 'cq_000',\n",
       " 'cr_000',\n",
       " 'cs_000',\n",
       " 'cs_001',\n",
       " 'cs_002',\n",
       " 'cs_003',\n",
       " 'cs_004',\n",
       " 'cs_005',\n",
       " 'cs_006',\n",
       " 'cs_007',\n",
       " 'cs_008',\n",
       " 'cs_009',\n",
       " 'ct_000',\n",
       " 'cu_000',\n",
       " 'cv_000',\n",
       " 'cx_000',\n",
       " 'cy_000',\n",
       " 'cz_000',\n",
       " 'da_000',\n",
       " 'db_000',\n",
       " 'dc_000',\n",
       " 'dd_000',\n",
       " 'de_000',\n",
       " 'df_000',\n",
       " 'dg_000',\n",
       " 'dh_000',\n",
       " 'di_000',\n",
       " 'dj_000',\n",
       " 'dk_000',\n",
       " 'dl_000',\n",
       " 'dm_000',\n",
       " 'dn_000',\n",
       " 'do_000',\n",
       " 'dp_000',\n",
       " 'dq_000',\n",
       " 'dr_000',\n",
       " 'ds_000',\n",
       " 'dt_000',\n",
       " 'du_000',\n",
       " 'dv_000',\n",
       " 'dx_000',\n",
       " 'dy_000',\n",
       " 'dz_000',\n",
       " 'ea_000',\n",
       " 'eb_000',\n",
       " 'ec_00',\n",
       " 'ed_000',\n",
       " 'ee_000',\n",
       " 'ee_001',\n",
       " 'ee_002',\n",
       " 'ee_003',\n",
       " 'ee_004',\n",
       " 'ee_005',\n",
       " 'ee_006',\n",
       " 'ee_007',\n",
       " 'ee_008',\n",
       " 'ee_009',\n",
       " 'ef_000',\n",
       " 'eg_000']"
      ]
     },
     "execution_count": 45,
     "metadata": {},
     "output_type": "execute_result"
    }
   ],
   "source": [
    "columns.pop(0)\n",
    "columns"
   ]
  },
  {
   "cell_type": "code",
   "execution_count": 46,
   "metadata": {},
   "outputs": [
    {
     "name": "stdout",
     "output_type": "stream",
     "text": [
      "cd_000\n"
     ]
    }
   ],
   "source": [
    "for i in columns:\n",
    "    # print(i)\n",
    "    if df.describe()[i][\"std\"]==0:\n",
    "        print(i)"
   ]
  },
  {
   "cell_type": "code",
   "execution_count": 47,
   "metadata": {},
   "outputs": [
    {
     "data": {
      "text/plain": [
       "0.0"
      ]
     },
     "execution_count": 47,
     "metadata": {},
     "output_type": "execute_result"
    }
   ],
   "source": [
    "df.describe()[\"cd_000\"][\"std\"]"
   ]
  },
  {
   "cell_type": "code",
   "execution_count": null,
   "metadata": {},
   "outputs": [],
   "source": []
  },
  {
   "cell_type": "code",
   "execution_count": 30,
   "metadata": {},
   "outputs": [
    {
     "data": {
      "text/plain": [
       "count    2.800000e+04\n",
       "mean     7.273634e+04\n",
       "std      1.811793e+05\n",
       "min      0.000000e+00\n",
       "25%      8.980000e+02\n",
       "50%      3.122800e+04\n",
       "75%      5.155500e+04\n",
       "max      2.746564e+06\n",
       "Name: aa_000, dtype: float64"
      ]
     },
     "execution_count": 30,
     "metadata": {},
     "output_type": "execute_result"
    }
   ],
   "source": [
    "val"
   ]
  },
  {
   "cell_type": "code",
   "execution_count": 32,
   "metadata": {},
   "outputs": [
    {
     "data": {
      "text/plain": [
       "28000.0"
      ]
     },
     "execution_count": 32,
     "metadata": {},
     "output_type": "execute_result"
    }
   ],
   "source": [
    "val[\"count\"]"
   ]
  },
  {
   "cell_type": "code",
   "execution_count": 48,
   "metadata": {},
   "outputs": [],
   "source": [
    "from scipy.stats import ks_2samp\n",
    "import numpy as np"
   ]
  },
  {
   "cell_type": "code",
   "execution_count": 51,
   "metadata": {},
   "outputs": [
    {
     "data": {
      "text/plain": [
       "(array([0, 1, 2, 3, 4, 5, 6, 7, 8, 9]),\n",
       " array([ 0,  1,  2,  3,  4,  5,  6,  7,  8,  9, 10]))"
      ]
     },
     "execution_count": 51,
     "metadata": {},
     "output_type": "execute_result"
    }
   ],
   "source": [
    "d1=np.arange(10)\n",
    "d2=np.arange(11)\n",
    "d1,d2"
   ]
  },
  {
   "cell_type": "code",
   "execution_count": 52,
   "metadata": {},
   "outputs": [
    {
     "data": {
      "text/plain": [
       "KstestResult(statistic=0.09090909090909091, pvalue=1.0, statistic_location=9, statistic_sign=1)"
      ]
     },
     "execution_count": 52,
     "metadata": {},
     "output_type": "execute_result"
    }
   ],
   "source": [
    "ks_2samp(d1,d2)"
   ]
  },
  {
   "cell_type": "code",
   "execution_count": null,
   "metadata": {},
   "outputs": [],
   "source": []
  }
 ],
 "metadata": {
  "kernelspec": {
   "display_name": "Python 3",
   "language": "python",
   "name": "python3"
  },
  "language_info": {
   "codemirror_mode": {
    "name": "ipython",
    "version": 3
   },
   "file_extension": ".py",
   "mimetype": "text/x-python",
   "name": "python",
   "nbconvert_exporter": "python",
   "pygments_lexer": "ipython3",
   "version": "3.8.0"
  }
 },
 "nbformat": 4,
 "nbformat_minor": 2
}
